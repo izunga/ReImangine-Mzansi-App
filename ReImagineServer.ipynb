!pip install flask flask-ngrok
!pip install xformers
import xformers

from flask import Flask, request, jsonify, send_file
from PIL import Image
import io
import numpy as np
import cv2
import torch
from diffusers import StableDiffusionControlNetPipeline, ControlNetModel, UniPCMultistepScheduler

app = Flask(__name__)

# Initialize model once on startup
print("Loading ControlNet model...")
controlnet = ControlNetModel.from_pretrained("lllyasviel/sd-controlnet-canny", torch_dtype=torch.float16)
pipe = StableDiffusionControlNetPipeline.from_pretrained(
    "runwayml/stable-diffusion-v1-5",
    controlnet=controlnet,
    torch_dtype=torch.float16
)
pipe.scheduler = UniPCMultistepScheduler.from_config(pipe.scheduler.config)
pipe.enable_model_cpu_offload()
pipe.enable_xformers_memory_efficient_attention()

@app.route("/generate", methods=["POST"])
def generate_image():
    app.logger.debug("Request received!")
    try:
        # 1. Receive image and prompt
        prompt = request.form["prompt"]
        image_file = request.files["image"]
        image = Image.open(image_file).convert("RGB")

        # 2. Apply Canny edge detection
        image_np = np.array(image)
        edges = cv2.Canny(image_np, 100, 200)
        edges = np.stack([edges]*3, axis=2)  # Convert to 3-channel
        canny_image = Image.fromarray(edges)

        # 3. Run through the Stable Diffusion ControlNet pipeline
        generator = torch.manual_seed(2)
        output = pipe(
            prompt,
            canny_image,
            negative_prompt="monochrome, lowres, bad anatomy, worst quality, low quality",
            generator=generator,
            num_inference_steps=20,
        )

        # 4. Return the generated image
        result_image = output.images[0]
        img_io = io.BytesIO()
        result_image.save(img_io, 'JPEG')
        img_io.seek(0)
        return send_file(img_io, mimetype='image/jpeg')

    except Exception as e:
        print("Error:", e)
        return jsonify({"error": str(e)}), 500

if __name__ == "__main__":
    app.run(host="0.0.0.0", port=5000)
